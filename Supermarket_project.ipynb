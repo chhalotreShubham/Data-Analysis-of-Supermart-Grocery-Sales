{
 "cells": [
  {
   "cell_type": "markdown",
   "id": "60bfa843",
   "metadata": {},
   "source": [
    "# Exploratory Data Analysis of Supermart Grocery Sales"
   ]
  },
  {
   "cell_type": "code",
   "execution_count": 88,
   "id": "bc9f4f18",
   "metadata": {},
   "outputs": [],
   "source": [
    "import pandas as pd\n",
    "import numpy as np\n",
    "from matplotlib import pyplot as plt\n",
    "import seaborn as sns\n"
   ]
  },
  {
   "cell_type": "code",
   "execution_count": 89,
   "id": "e03aac2c",
   "metadata": {},
   "outputs": [
    {
     "name": "stdout",
     "output_type": "stream",
     "text": [
      "     Order ID Customer Name           Category      Sub Category         City  \\\n",
      "0         OD1        Harish       Oil & Masala           Masalas      Vellore   \n",
      "1         OD2         Sudha          Beverages     Health Drinks  Krishnagiri   \n",
      "2         OD3       Hussain        Food Grains      Atta & Flour   Perambalur   \n",
      "3         OD4       Jackson   Fruits & Veggies  Fresh Vegetables   Dharmapuri   \n",
      "4         OD5       Ridhesh        Food Grains   Organic Staples         Ooty   \n",
      "...       ...           ...                ...               ...          ...   \n",
      "9989   OD9990        Sudeep  Eggs, Meat & Fish              Eggs      Madurai   \n",
      "9990   OD9991          Alan             Bakery          Biscuits  Kanyakumari   \n",
      "9991   OD9992          Ravi        Food Grains              Rice         Bodi   \n",
      "9992   OD9993          Peer       Oil & Masala            Spices   Pudukottai   \n",
      "9993   OD9994        Ganesh        Food Grains      Atta & Flour  Tirunelveli   \n",
      "\n",
      "      Order Date Region  Sales  Discount  Profit       State  \n",
      "0     2017-11-08  North   1254      0.12  401.28  Tamil Nadu  \n",
      "1     2017-11-08  South    749      0.18  149.80  Tamil Nadu  \n",
      "2     2017-06-12   West   2360      0.21  165.20  Tamil Nadu  \n",
      "3     2016-10-11  South    896      0.25   89.60  Tamil Nadu  \n",
      "4     2016-10-11  South   2355      0.26  918.45  Tamil Nadu  \n",
      "...          ...    ...    ...       ...     ...         ...  \n",
      "9989  2015-12-24   West    945      0.16  359.10  Tamil Nadu  \n",
      "9990  2015-07-12   West   1195      0.26   71.70  Tamil Nadu  \n",
      "9991  2017-06-06   West   1567      0.16  501.44  Tamil Nadu  \n",
      "9992  2018-10-16   West   1659      0.15  597.24  Tamil Nadu  \n",
      "9993  2018-04-17   West   1034      0.28  165.44  Tamil Nadu  \n",
      "\n",
      "[9994 rows x 11 columns]\n"
     ]
    }
   ],
   "source": [
    "df =pd.read_csv('U:\\\\Projects\\\\my_01_project\\\\Supermart Grocery Sales - Retail Analytics Dataset.csv')\n",
    "print(df)"
   ]
  },
  {
   "cell_type": "markdown",
   "id": "079fbe2a",
   "metadata": {},
   "source": [
    "## Let's check if there's any invalid data like negative values are present in sales,discount and profit data"
   ]
  },
  {
   "cell_type": "code",
   "execution_count": 3,
   "id": "9a6daa7b",
   "metadata": {},
   "outputs": [
    {
     "data": {
      "text/plain": [
       "False"
      ]
     },
     "execution_count": 3,
     "metadata": {},
     "output_type": "execute_result"
    }
   ],
   "source": [
    "(df['Sales'].values <= 0).any()"
   ]
  },
  {
   "cell_type": "code",
   "execution_count": 40,
   "id": "35a5ff41",
   "metadata": {},
   "outputs": [
    {
     "data": {
      "text/plain": [
       "False"
      ]
     },
     "execution_count": 40,
     "metadata": {},
     "output_type": "execute_result"
    }
   ],
   "source": [
    "(df['Profit'].values <=0.00).any()\n",
    "(df['Discount'].values <=0.00).any()"
   ]
  },
  {
   "cell_type": "code",
   "execution_count": 4,
   "id": "d6a35618",
   "metadata": {},
   "outputs": [
    {
     "data": {
      "text/plain": [
       "(9994, 11)"
      ]
     },
     "execution_count": 4,
     "metadata": {},
     "output_type": "execute_result"
    }
   ],
   "source": [
    "df.shape"
   ]
  },
  {
   "cell_type": "code",
   "execution_count": 5,
   "id": "e1c2f8cb",
   "metadata": {},
   "outputs": [
    {
     "data": {
      "text/html": [
       "<div>\n",
       "<style scoped>\n",
       "    .dataframe tbody tr th:only-of-type {\n",
       "        vertical-align: middle;\n",
       "    }\n",
       "\n",
       "    .dataframe tbody tr th {\n",
       "        vertical-align: top;\n",
       "    }\n",
       "\n",
       "    .dataframe thead th {\n",
       "        text-align: right;\n",
       "    }\n",
       "</style>\n",
       "<table border=\"1\" class=\"dataframe\">\n",
       "  <thead>\n",
       "    <tr style=\"text-align: right;\">\n",
       "      <th></th>\n",
       "      <th>Order ID</th>\n",
       "      <th>Customer Name</th>\n",
       "      <th>Category</th>\n",
       "      <th>Sub Category</th>\n",
       "      <th>City</th>\n",
       "      <th>Order Date</th>\n",
       "      <th>Region</th>\n",
       "      <th>Sales</th>\n",
       "      <th>Discount</th>\n",
       "      <th>Profit</th>\n",
       "      <th>State</th>\n",
       "    </tr>\n",
       "  </thead>\n",
       "  <tbody>\n",
       "    <tr>\n",
       "      <th>0</th>\n",
       "      <td>OD1</td>\n",
       "      <td>Harish</td>\n",
       "      <td>Oil &amp; Masala</td>\n",
       "      <td>Masalas</td>\n",
       "      <td>Vellore</td>\n",
       "      <td>2017-11-08</td>\n",
       "      <td>North</td>\n",
       "      <td>1254</td>\n",
       "      <td>0.12</td>\n",
       "      <td>401.28</td>\n",
       "      <td>Tamil Nadu</td>\n",
       "    </tr>\n",
       "    <tr>\n",
       "      <th>1</th>\n",
       "      <td>OD2</td>\n",
       "      <td>Sudha</td>\n",
       "      <td>Beverages</td>\n",
       "      <td>Health Drinks</td>\n",
       "      <td>Krishnagiri</td>\n",
       "      <td>2017-11-08</td>\n",
       "      <td>South</td>\n",
       "      <td>749</td>\n",
       "      <td>0.18</td>\n",
       "      <td>149.80</td>\n",
       "      <td>Tamil Nadu</td>\n",
       "    </tr>\n",
       "    <tr>\n",
       "      <th>2</th>\n",
       "      <td>OD3</td>\n",
       "      <td>Hussain</td>\n",
       "      <td>Food Grains</td>\n",
       "      <td>Atta &amp; Flour</td>\n",
       "      <td>Perambalur</td>\n",
       "      <td>2017-06-12</td>\n",
       "      <td>West</td>\n",
       "      <td>2360</td>\n",
       "      <td>0.21</td>\n",
       "      <td>165.20</td>\n",
       "      <td>Tamil Nadu</td>\n",
       "    </tr>\n",
       "    <tr>\n",
       "      <th>3</th>\n",
       "      <td>OD4</td>\n",
       "      <td>Jackson</td>\n",
       "      <td>Fruits &amp; Veggies</td>\n",
       "      <td>Fresh Vegetables</td>\n",
       "      <td>Dharmapuri</td>\n",
       "      <td>2016-10-11</td>\n",
       "      <td>South</td>\n",
       "      <td>896</td>\n",
       "      <td>0.25</td>\n",
       "      <td>89.60</td>\n",
       "      <td>Tamil Nadu</td>\n",
       "    </tr>\n",
       "    <tr>\n",
       "      <th>4</th>\n",
       "      <td>OD5</td>\n",
       "      <td>Ridhesh</td>\n",
       "      <td>Food Grains</td>\n",
       "      <td>Organic Staples</td>\n",
       "      <td>Ooty</td>\n",
       "      <td>2016-10-11</td>\n",
       "      <td>South</td>\n",
       "      <td>2355</td>\n",
       "      <td>0.26</td>\n",
       "      <td>918.45</td>\n",
       "      <td>Tamil Nadu</td>\n",
       "    </tr>\n",
       "    <tr>\n",
       "      <th>5</th>\n",
       "      <td>OD6</td>\n",
       "      <td>Adavan</td>\n",
       "      <td>Food Grains</td>\n",
       "      <td>Organic Staples</td>\n",
       "      <td>Dharmapuri</td>\n",
       "      <td>2015-06-09</td>\n",
       "      <td>West</td>\n",
       "      <td>2305</td>\n",
       "      <td>0.26</td>\n",
       "      <td>322.70</td>\n",
       "      <td>Tamil Nadu</td>\n",
       "    </tr>\n",
       "    <tr>\n",
       "      <th>6</th>\n",
       "      <td>OD7</td>\n",
       "      <td>Jonas</td>\n",
       "      <td>Fruits &amp; Veggies</td>\n",
       "      <td>Fresh Vegetables</td>\n",
       "      <td>Trichy</td>\n",
       "      <td>2015-06-09</td>\n",
       "      <td>West</td>\n",
       "      <td>826</td>\n",
       "      <td>0.33</td>\n",
       "      <td>346.92</td>\n",
       "      <td>Tamil Nadu</td>\n",
       "    </tr>\n",
       "    <tr>\n",
       "      <th>7</th>\n",
       "      <td>OD8</td>\n",
       "      <td>Hafiz</td>\n",
       "      <td>Fruits &amp; Veggies</td>\n",
       "      <td>Fresh Fruits</td>\n",
       "      <td>Ramanadhapuram</td>\n",
       "      <td>2015-06-09</td>\n",
       "      <td>West</td>\n",
       "      <td>1847</td>\n",
       "      <td>0.32</td>\n",
       "      <td>147.76</td>\n",
       "      <td>Tamil Nadu</td>\n",
       "    </tr>\n",
       "    <tr>\n",
       "      <th>8</th>\n",
       "      <td>OD9</td>\n",
       "      <td>Hafiz</td>\n",
       "      <td>Bakery</td>\n",
       "      <td>Biscuits</td>\n",
       "      <td>Tirunelveli</td>\n",
       "      <td>2015-06-09</td>\n",
       "      <td>West</td>\n",
       "      <td>791</td>\n",
       "      <td>0.23</td>\n",
       "      <td>181.93</td>\n",
       "      <td>Tamil Nadu</td>\n",
       "    </tr>\n",
       "    <tr>\n",
       "      <th>9</th>\n",
       "      <td>OD10</td>\n",
       "      <td>Krithika</td>\n",
       "      <td>Bakery</td>\n",
       "      <td>Cakes</td>\n",
       "      <td>Chennai</td>\n",
       "      <td>2015-06-09</td>\n",
       "      <td>West</td>\n",
       "      <td>1795</td>\n",
       "      <td>0.27</td>\n",
       "      <td>484.65</td>\n",
       "      <td>Tamil Nadu</td>\n",
       "    </tr>\n",
       "  </tbody>\n",
       "</table>\n",
       "</div>"
      ],
      "text/plain": [
       "  Order ID Customer Name          Category      Sub Category            City  \\\n",
       "0      OD1        Harish      Oil & Masala           Masalas         Vellore   \n",
       "1      OD2         Sudha         Beverages     Health Drinks     Krishnagiri   \n",
       "2      OD3       Hussain       Food Grains      Atta & Flour      Perambalur   \n",
       "3      OD4       Jackson  Fruits & Veggies  Fresh Vegetables      Dharmapuri   \n",
       "4      OD5       Ridhesh       Food Grains   Organic Staples            Ooty   \n",
       "5      OD6        Adavan       Food Grains   Organic Staples      Dharmapuri   \n",
       "6      OD7         Jonas  Fruits & Veggies  Fresh Vegetables          Trichy   \n",
       "7      OD8         Hafiz  Fruits & Veggies      Fresh Fruits  Ramanadhapuram   \n",
       "8      OD9         Hafiz            Bakery          Biscuits     Tirunelveli   \n",
       "9     OD10      Krithika            Bakery             Cakes         Chennai   \n",
       "\n",
       "   Order Date Region  Sales  Discount  Profit       State  \n",
       "0  2017-11-08  North   1254      0.12  401.28  Tamil Nadu  \n",
       "1  2017-11-08  South    749      0.18  149.80  Tamil Nadu  \n",
       "2  2017-06-12   West   2360      0.21  165.20  Tamil Nadu  \n",
       "3  2016-10-11  South    896      0.25   89.60  Tamil Nadu  \n",
       "4  2016-10-11  South   2355      0.26  918.45  Tamil Nadu  \n",
       "5  2015-06-09   West   2305      0.26  322.70  Tamil Nadu  \n",
       "6  2015-06-09   West    826      0.33  346.92  Tamil Nadu  \n",
       "7  2015-06-09   West   1847      0.32  147.76  Tamil Nadu  \n",
       "8  2015-06-09   West    791      0.23  181.93  Tamil Nadu  \n",
       "9  2015-06-09   West   1795      0.27  484.65  Tamil Nadu  "
      ]
     },
     "execution_count": 5,
     "metadata": {},
     "output_type": "execute_result"
    }
   ],
   "source": [
    "df.head(5)"
   ]
  },
  {
   "cell_type": "code",
   "execution_count": 6,
   "id": "36a6202f",
   "metadata": {},
   "outputs": [
    {
     "data": {
      "text/html": [
       "<div>\n",
       "<style scoped>\n",
       "    .dataframe tbody tr th:only-of-type {\n",
       "        vertical-align: middle;\n",
       "    }\n",
       "\n",
       "    .dataframe tbody tr th {\n",
       "        vertical-align: top;\n",
       "    }\n",
       "\n",
       "    .dataframe thead th {\n",
       "        text-align: right;\n",
       "    }\n",
       "</style>\n",
       "<table border=\"1\" class=\"dataframe\">\n",
       "  <thead>\n",
       "    <tr style=\"text-align: right;\">\n",
       "      <th></th>\n",
       "      <th>Order ID</th>\n",
       "      <th>Customer Name</th>\n",
       "      <th>Category</th>\n",
       "      <th>Sub Category</th>\n",
       "      <th>City</th>\n",
       "      <th>Order Date</th>\n",
       "      <th>Region</th>\n",
       "      <th>Sales</th>\n",
       "      <th>Discount</th>\n",
       "      <th>Profit</th>\n",
       "      <th>State</th>\n",
       "    </tr>\n",
       "  </thead>\n",
       "  <tbody>\n",
       "    <tr>\n",
       "      <th>9984</th>\n",
       "      <td>OD9985</td>\n",
       "      <td>Willams</td>\n",
       "      <td>Oil &amp; Masala</td>\n",
       "      <td>Masalas</td>\n",
       "      <td>Trichy</td>\n",
       "      <td>2016-08-31</td>\n",
       "      <td>West</td>\n",
       "      <td>727</td>\n",
       "      <td>0.17</td>\n",
       "      <td>109.05</td>\n",
       "      <td>Tamil Nadu</td>\n",
       "    </tr>\n",
       "    <tr>\n",
       "      <th>9985</th>\n",
       "      <td>OD9986</td>\n",
       "      <td>Shree</td>\n",
       "      <td>Eggs, Meat &amp; Fish</td>\n",
       "      <td>Mutton</td>\n",
       "      <td>Kanyakumari</td>\n",
       "      <td>2016-11-13</td>\n",
       "      <td>West</td>\n",
       "      <td>1286</td>\n",
       "      <td>0.30</td>\n",
       "      <td>475.82</td>\n",
       "      <td>Tamil Nadu</td>\n",
       "    </tr>\n",
       "    <tr>\n",
       "      <th>9986</th>\n",
       "      <td>OD9987</td>\n",
       "      <td>Peer</td>\n",
       "      <td>Bakery</td>\n",
       "      <td>Biscuits</td>\n",
       "      <td>Vellore</td>\n",
       "      <td>2018-05-08</td>\n",
       "      <td>West</td>\n",
       "      <td>2199</td>\n",
       "      <td>0.34</td>\n",
       "      <td>153.93</td>\n",
       "      <td>Tamil Nadu</td>\n",
       "    </tr>\n",
       "    <tr>\n",
       "      <th>9987</th>\n",
       "      <td>OD9988</td>\n",
       "      <td>Ganesh</td>\n",
       "      <td>Fruits &amp; Veggies</td>\n",
       "      <td>Fresh Vegetables</td>\n",
       "      <td>Theni</td>\n",
       "      <td>2015-10-19</td>\n",
       "      <td>West</td>\n",
       "      <td>1350</td>\n",
       "      <td>0.15</td>\n",
       "      <td>67.50</td>\n",
       "      <td>Tamil Nadu</td>\n",
       "    </tr>\n",
       "    <tr>\n",
       "      <th>9988</th>\n",
       "      <td>OD9989</td>\n",
       "      <td>Jackson</td>\n",
       "      <td>Snacks</td>\n",
       "      <td>Cookies</td>\n",
       "      <td>Vellore</td>\n",
       "      <td>2016-11-03</td>\n",
       "      <td>West</td>\n",
       "      <td>1460</td>\n",
       "      <td>0.15</td>\n",
       "      <td>452.60</td>\n",
       "      <td>Tamil Nadu</td>\n",
       "    </tr>\n",
       "    <tr>\n",
       "      <th>9989</th>\n",
       "      <td>OD9990</td>\n",
       "      <td>Sudeep</td>\n",
       "      <td>Eggs, Meat &amp; Fish</td>\n",
       "      <td>Eggs</td>\n",
       "      <td>Madurai</td>\n",
       "      <td>2015-12-24</td>\n",
       "      <td>West</td>\n",
       "      <td>945</td>\n",
       "      <td>0.16</td>\n",
       "      <td>359.10</td>\n",
       "      <td>Tamil Nadu</td>\n",
       "    </tr>\n",
       "    <tr>\n",
       "      <th>9990</th>\n",
       "      <td>OD9991</td>\n",
       "      <td>Alan</td>\n",
       "      <td>Bakery</td>\n",
       "      <td>Biscuits</td>\n",
       "      <td>Kanyakumari</td>\n",
       "      <td>2015-07-12</td>\n",
       "      <td>West</td>\n",
       "      <td>1195</td>\n",
       "      <td>0.26</td>\n",
       "      <td>71.70</td>\n",
       "      <td>Tamil Nadu</td>\n",
       "    </tr>\n",
       "    <tr>\n",
       "      <th>9991</th>\n",
       "      <td>OD9992</td>\n",
       "      <td>Ravi</td>\n",
       "      <td>Food Grains</td>\n",
       "      <td>Rice</td>\n",
       "      <td>Bodi</td>\n",
       "      <td>2017-06-06</td>\n",
       "      <td>West</td>\n",
       "      <td>1567</td>\n",
       "      <td>0.16</td>\n",
       "      <td>501.44</td>\n",
       "      <td>Tamil Nadu</td>\n",
       "    </tr>\n",
       "    <tr>\n",
       "      <th>9992</th>\n",
       "      <td>OD9993</td>\n",
       "      <td>Peer</td>\n",
       "      <td>Oil &amp; Masala</td>\n",
       "      <td>Spices</td>\n",
       "      <td>Pudukottai</td>\n",
       "      <td>2018-10-16</td>\n",
       "      <td>West</td>\n",
       "      <td>1659</td>\n",
       "      <td>0.15</td>\n",
       "      <td>597.24</td>\n",
       "      <td>Tamil Nadu</td>\n",
       "    </tr>\n",
       "    <tr>\n",
       "      <th>9993</th>\n",
       "      <td>OD9994</td>\n",
       "      <td>Ganesh</td>\n",
       "      <td>Food Grains</td>\n",
       "      <td>Atta &amp; Flour</td>\n",
       "      <td>Tirunelveli</td>\n",
       "      <td>2018-04-17</td>\n",
       "      <td>West</td>\n",
       "      <td>1034</td>\n",
       "      <td>0.28</td>\n",
       "      <td>165.44</td>\n",
       "      <td>Tamil Nadu</td>\n",
       "    </tr>\n",
       "  </tbody>\n",
       "</table>\n",
       "</div>"
      ],
      "text/plain": [
       "     Order ID Customer Name           Category      Sub Category         City  \\\n",
       "9984   OD9985       Willams       Oil & Masala           Masalas       Trichy   \n",
       "9985   OD9986         Shree  Eggs, Meat & Fish            Mutton  Kanyakumari   \n",
       "9986   OD9987          Peer             Bakery          Biscuits      Vellore   \n",
       "9987   OD9988        Ganesh   Fruits & Veggies  Fresh Vegetables        Theni   \n",
       "9988   OD9989       Jackson             Snacks           Cookies      Vellore   \n",
       "9989   OD9990        Sudeep  Eggs, Meat & Fish              Eggs      Madurai   \n",
       "9990   OD9991          Alan             Bakery          Biscuits  Kanyakumari   \n",
       "9991   OD9992          Ravi        Food Grains              Rice         Bodi   \n",
       "9992   OD9993          Peer       Oil & Masala            Spices   Pudukottai   \n",
       "9993   OD9994        Ganesh        Food Grains      Atta & Flour  Tirunelveli   \n",
       "\n",
       "      Order Date Region  Sales  Discount  Profit       State  \n",
       "9984  2016-08-31   West    727      0.17  109.05  Tamil Nadu  \n",
       "9985  2016-11-13   West   1286      0.30  475.82  Tamil Nadu  \n",
       "9986  2018-05-08   West   2199      0.34  153.93  Tamil Nadu  \n",
       "9987  2015-10-19   West   1350      0.15   67.50  Tamil Nadu  \n",
       "9988  2016-11-03   West   1460      0.15  452.60  Tamil Nadu  \n",
       "9989  2015-12-24   West    945      0.16  359.10  Tamil Nadu  \n",
       "9990  2015-07-12   West   1195      0.26   71.70  Tamil Nadu  \n",
       "9991  2017-06-06   West   1567      0.16  501.44  Tamil Nadu  \n",
       "9992  2018-10-16   West   1659      0.15  597.24  Tamil Nadu  \n",
       "9993  2018-04-17   West   1034      0.28  165.44  Tamil Nadu  "
      ]
     },
     "execution_count": 6,
     "metadata": {},
     "output_type": "execute_result"
    }
   ],
   "source": [
    "df.tail(5)"
   ]
  },
  {
   "cell_type": "code",
   "execution_count": 7,
   "id": "b3fd789a",
   "metadata": {},
   "outputs": [
    {
     "data": {
      "text/html": [
       "<div>\n",
       "<style scoped>\n",
       "    .dataframe tbody tr th:only-of-type {\n",
       "        vertical-align: middle;\n",
       "    }\n",
       "\n",
       "    .dataframe tbody tr th {\n",
       "        vertical-align: top;\n",
       "    }\n",
       "\n",
       "    .dataframe thead th {\n",
       "        text-align: right;\n",
       "    }\n",
       "</style>\n",
       "<table border=\"1\" class=\"dataframe\">\n",
       "  <thead>\n",
       "    <tr style=\"text-align: right;\">\n",
       "      <th></th>\n",
       "      <th>Sales</th>\n",
       "      <th>Discount</th>\n",
       "      <th>Profit</th>\n",
       "    </tr>\n",
       "  </thead>\n",
       "  <tbody>\n",
       "    <tr>\n",
       "      <th>count</th>\n",
       "      <td>9994.000000</td>\n",
       "      <td>9994.000000</td>\n",
       "      <td>9994.000000</td>\n",
       "    </tr>\n",
       "    <tr>\n",
       "      <th>mean</th>\n",
       "      <td>1496.596158</td>\n",
       "      <td>0.226817</td>\n",
       "      <td>374.937082</td>\n",
       "    </tr>\n",
       "    <tr>\n",
       "      <th>std</th>\n",
       "      <td>577.559036</td>\n",
       "      <td>0.074636</td>\n",
       "      <td>239.932881</td>\n",
       "    </tr>\n",
       "    <tr>\n",
       "      <th>min</th>\n",
       "      <td>500.000000</td>\n",
       "      <td>0.100000</td>\n",
       "      <td>25.250000</td>\n",
       "    </tr>\n",
       "    <tr>\n",
       "      <th>25%</th>\n",
       "      <td>1000.000000</td>\n",
       "      <td>0.160000</td>\n",
       "      <td>180.022500</td>\n",
       "    </tr>\n",
       "    <tr>\n",
       "      <th>50%</th>\n",
       "      <td>1498.000000</td>\n",
       "      <td>0.230000</td>\n",
       "      <td>320.780000</td>\n",
       "    </tr>\n",
       "    <tr>\n",
       "      <th>75%</th>\n",
       "      <td>1994.750000</td>\n",
       "      <td>0.290000</td>\n",
       "      <td>525.627500</td>\n",
       "    </tr>\n",
       "    <tr>\n",
       "      <th>max</th>\n",
       "      <td>2500.000000</td>\n",
       "      <td>0.350000</td>\n",
       "      <td>1120.950000</td>\n",
       "    </tr>\n",
       "  </tbody>\n",
       "</table>\n",
       "</div>"
      ],
      "text/plain": [
       "             Sales     Discount       Profit\n",
       "count  9994.000000  9994.000000  9994.000000\n",
       "mean   1496.596158     0.226817   374.937082\n",
       "std     577.559036     0.074636   239.932881\n",
       "min     500.000000     0.100000    25.250000\n",
       "25%    1000.000000     0.160000   180.022500\n",
       "50%    1498.000000     0.230000   320.780000\n",
       "75%    1994.750000     0.290000   525.627500\n",
       "max    2500.000000     0.350000  1120.950000"
      ]
     },
     "execution_count": 7,
     "metadata": {},
     "output_type": "execute_result"
    }
   ],
   "source": [
    "df.describe()"
   ]
  },
  {
   "cell_type": "code",
   "execution_count": 8,
   "id": "0250f19a",
   "metadata": {},
   "outputs": [
    {
     "name": "stdout",
     "output_type": "stream",
     "text": [
      "<class 'pandas.core.frame.DataFrame'>\n",
      "RangeIndex: 9994 entries, 0 to 9993\n",
      "Data columns (total 11 columns):\n",
      " #   Column         Non-Null Count  Dtype  \n",
      "---  ------         --------------  -----  \n",
      " 0   Order ID       9994 non-null   object \n",
      " 1   Customer Name  9994 non-null   object \n",
      " 2   Category       9994 non-null   object \n",
      " 3   Sub Category   9994 non-null   object \n",
      " 4   City           9994 non-null   object \n",
      " 5   Order Date     9994 non-null   object \n",
      " 6   Region         9994 non-null   object \n",
      " 7   Sales          9994 non-null   int64  \n",
      " 8   Discount       9994 non-null   float64\n",
      " 9   Profit         9994 non-null   float64\n",
      " 10  State          9994 non-null   object \n",
      "dtypes: float64(2), int64(1), object(8)\n",
      "memory usage: 859.0+ KB\n"
     ]
    }
   ],
   "source": [
    "df.info()"
   ]
  },
  {
   "cell_type": "markdown",
   "id": "117da84e",
   "metadata": {},
   "source": [
    "#### Let's see the regions of the sales"
   ]
  },
  {
   "cell_type": "code",
   "execution_count": 41,
   "id": "a3a932b6",
   "metadata": {},
   "outputs": [
    {
     "data": {
      "text/plain": [
       "array(['North', 'South', 'West', 'Central', 'East'], dtype=object)"
      ]
     },
     "execution_count": 41,
     "metadata": {},
     "output_type": "execute_result"
    }
   ],
   "source": [
    "df['Region'].unique()"
   ]
  },
  {
   "cell_type": "code",
   "execution_count": 42,
   "id": "7bc0d1fe",
   "metadata": {},
   "outputs": [
    {
     "data": {
      "text/plain": [
       "West       3203\n",
       "East       2848\n",
       "Central    2323\n",
       "South      1619\n",
       "North         1\n",
       "Name: Region, dtype: int64"
      ]
     },
     "execution_count": 42,
     "metadata": {},
     "output_type": "execute_result"
    }
   ],
   "source": [
    "df['Region'].value_counts()"
   ]
  },
  {
   "cell_type": "markdown",
   "id": "b66209c3",
   "metadata": {},
   "source": [
    "#### As there is only one sale in North region, this may be a mistake"
   ]
  },
  {
   "cell_type": "code",
   "execution_count": 96,
   "id": "3714bf6c",
   "metadata": {},
   "outputs": [
    {
     "data": {
      "text/plain": [
       "West       3203\n",
       "East       2848\n",
       "Central    2323\n",
       "South      1619\n",
       "Name: Region, dtype: int64"
      ]
     },
     "execution_count": 96,
     "metadata": {},
     "output_type": "execute_result"
    }
   ],
   "source": [
    "df1=df.drop((df[df['Region']=='North']).index,inplace=True) \n",
    "df['Region'].value_counts()\n"
   ]
  },
  {
   "cell_type": "code",
   "execution_count": 105,
   "id": "9262702d",
   "metadata": {},
   "outputs": [
    {
     "data": {
      "image/png": "[encoded data removed]",
      "text/plain": [
       "<Figure size 432x288 with 1 Axes>"
      ]
     },
     "metadata": {
      "needs_background": "light"
     },
     "output_type": "display_data"
    }
   ],
   "source": [
    "df.drop((df[df['Region']=='North']).index,inplace=True) \n",
    "df['Region'].value_counts()\n",
    "plt.hist(df['Region'],bins = 10,\n",
    "         alpha = 0.70, color = 'red')\n",
    "plt.title(\"Sales in different region\")\n",
    "plt.show()"
   ]
  },
  {
   "cell_type": "code",
   "execution_count": 97,
   "id": "1389856b",
   "metadata": {},
   "outputs": [
    {
     "name": "stdout",
     "output_type": "stream",
     "text": [
      "Order ID\n",
      "Customer Name\n",
      "Category\n",
      "Sub Category\n",
      "City\n",
      "Order Date\n",
      "Region\n",
      "Sales\n",
      "Discount\n",
      "Profit\n",
      "State\n"
     ]
    }
   ],
   "source": [
    "for col in df.columns:\n",
    "    print(col)\n",
    "    "
   ]
  },
  {
   "cell_type": "code",
   "execution_count": null,
   "id": "863d47dc",
   "metadata": {},
   "outputs": [],
   "source": []
  },
  {
   "cell_type": "code",
   "execution_count": 99,
   "id": "77b26463",
   "metadata": {},
   "outputs": [
    {
     "data": {
      "text/plain": [
       "0"
      ]
     },
     "execution_count": 99,
     "metadata": {},
     "output_type": "execute_result"
    }
   ],
   "source": [
    "df.duplicated().sum()"
   ]
  },
  {
   "cell_type": "code",
   "execution_count": 12,
   "id": "6a06ddf1",
   "metadata": {},
   "outputs": [
    {
     "data": {
      "text/html": [
       "<div>\n",
       "<style scoped>\n",
       "    .dataframe tbody tr th:only-of-type {\n",
       "        vertical-align: middle;\n",
       "    }\n",
       "\n",
       "    .dataframe tbody tr th {\n",
       "        vertical-align: top;\n",
       "    }\n",
       "\n",
       "    .dataframe thead th {\n",
       "        text-align: right;\n",
       "    }\n",
       "</style>\n",
       "<table border=\"1\" class=\"dataframe\">\n",
       "  <thead>\n",
       "    <tr style=\"text-align: right;\">\n",
       "      <th></th>\n",
       "      <th>Order ID</th>\n",
       "      <th>Customer Name</th>\n",
       "      <th>Category</th>\n",
       "      <th>Sub Category</th>\n",
       "      <th>City</th>\n",
       "      <th>Order Date</th>\n",
       "      <th>Region</th>\n",
       "      <th>Sales</th>\n",
       "      <th>Discount</th>\n",
       "      <th>Profit</th>\n",
       "      <th>State</th>\n",
       "    </tr>\n",
       "  </thead>\n",
       "  <tbody>\n",
       "    <tr>\n",
       "      <th>5892</th>\n",
       "      <td>OD5893</td>\n",
       "      <td>Adavan</td>\n",
       "      <td>Fruits &amp; Veggies</td>\n",
       "      <td>Fresh Vegetables</td>\n",
       "      <td>Nagercoil</td>\n",
       "      <td>2017-06-20</td>\n",
       "      <td>Central</td>\n",
       "      <td>2265</td>\n",
       "      <td>0.33</td>\n",
       "      <td>543.60</td>\n",
       "      <td>Tamil Nadu</td>\n",
       "    </tr>\n",
       "    <tr>\n",
       "      <th>1113</th>\n",
       "      <td>OD1114</td>\n",
       "      <td>Adavan</td>\n",
       "      <td>Food Grains</td>\n",
       "      <td>Atta &amp; Flour</td>\n",
       "      <td>Dindigul</td>\n",
       "      <td>2018-05-27</td>\n",
       "      <td>West</td>\n",
       "      <td>2181</td>\n",
       "      <td>0.12</td>\n",
       "      <td>545.25</td>\n",
       "      <td>Tamil Nadu</td>\n",
       "    </tr>\n",
       "    <tr>\n",
       "      <th>1119</th>\n",
       "      <td>OD1120</td>\n",
       "      <td>Adavan</td>\n",
       "      <td>Fruits &amp; Veggies</td>\n",
       "      <td>Organic Fruits</td>\n",
       "      <td>Kanyakumari</td>\n",
       "      <td>2017-06-17</td>\n",
       "      <td>West</td>\n",
       "      <td>2102</td>\n",
       "      <td>0.10</td>\n",
       "      <td>210.20</td>\n",
       "      <td>Tamil Nadu</td>\n",
       "    </tr>\n",
       "    <tr>\n",
       "      <th>5802</th>\n",
       "      <td>OD5803</td>\n",
       "      <td>Adavan</td>\n",
       "      <td>Bakery</td>\n",
       "      <td>Biscuits</td>\n",
       "      <td>Krishnagiri</td>\n",
       "      <td>2018-05-28</td>\n",
       "      <td>East</td>\n",
       "      <td>1657</td>\n",
       "      <td>0.27</td>\n",
       "      <td>579.95</td>\n",
       "      <td>Tamil Nadu</td>\n",
       "    </tr>\n",
       "    <tr>\n",
       "      <th>5785</th>\n",
       "      <td>OD5786</td>\n",
       "      <td>Adavan</td>\n",
       "      <td>Eggs, Meat &amp; Fish</td>\n",
       "      <td>Mutton</td>\n",
       "      <td>Kanyakumari</td>\n",
       "      <td>2015-09-14</td>\n",
       "      <td>Central</td>\n",
       "      <td>1518</td>\n",
       "      <td>0.24</td>\n",
       "      <td>607.20</td>\n",
       "      <td>Tamil Nadu</td>\n",
       "    </tr>\n",
       "    <tr>\n",
       "      <th>...</th>\n",
       "      <td>...</td>\n",
       "      <td>...</td>\n",
       "      <td>...</td>\n",
       "      <td>...</td>\n",
       "      <td>...</td>\n",
       "      <td>...</td>\n",
       "      <td>...</td>\n",
       "      <td>...</td>\n",
       "      <td>...</td>\n",
       "      <td>...</td>\n",
       "      <td>...</td>\n",
       "    </tr>\n",
       "    <tr>\n",
       "      <th>1590</th>\n",
       "      <td>OD1591</td>\n",
       "      <td>Yusuf</td>\n",
       "      <td>Fruits &amp; Veggies</td>\n",
       "      <td>Organic Fruits</td>\n",
       "      <td>Namakkal</td>\n",
       "      <td>2015-05-07</td>\n",
       "      <td>East</td>\n",
       "      <td>512</td>\n",
       "      <td>0.19</td>\n",
       "      <td>92.16</td>\n",
       "      <td>Tamil Nadu</td>\n",
       "    </tr>\n",
       "    <tr>\n",
       "      <th>1053</th>\n",
       "      <td>OD1054</td>\n",
       "      <td>Yusuf</td>\n",
       "      <td>Oil &amp; Masala</td>\n",
       "      <td>Masalas</td>\n",
       "      <td>Ooty</td>\n",
       "      <td>2018-02-11</td>\n",
       "      <td>East</td>\n",
       "      <td>1678</td>\n",
       "      <td>0.32</td>\n",
       "      <td>755.10</td>\n",
       "      <td>Tamil Nadu</td>\n",
       "    </tr>\n",
       "    <tr>\n",
       "      <th>1957</th>\n",
       "      <td>OD1958</td>\n",
       "      <td>Yusuf</td>\n",
       "      <td>Oil &amp; Masala</td>\n",
       "      <td>Masalas</td>\n",
       "      <td>Madurai</td>\n",
       "      <td>2016-10-25</td>\n",
       "      <td>West</td>\n",
       "      <td>720</td>\n",
       "      <td>0.24</td>\n",
       "      <td>244.80</td>\n",
       "      <td>Tamil Nadu</td>\n",
       "    </tr>\n",
       "    <tr>\n",
       "      <th>7359</th>\n",
       "      <td>OD7360</td>\n",
       "      <td>Yusuf</td>\n",
       "      <td>Eggs, Meat &amp; Fish</td>\n",
       "      <td>Chicken</td>\n",
       "      <td>Bodi</td>\n",
       "      <td>2018-02-24</td>\n",
       "      <td>East</td>\n",
       "      <td>1104</td>\n",
       "      <td>0.35</td>\n",
       "      <td>287.04</td>\n",
       "      <td>Tamil Nadu</td>\n",
       "    </tr>\n",
       "    <tr>\n",
       "      <th>4640</th>\n",
       "      <td>OD4641</td>\n",
       "      <td>Yusuf</td>\n",
       "      <td>Beverages</td>\n",
       "      <td>Soft Drinks</td>\n",
       "      <td>Salem</td>\n",
       "      <td>2017-11-07</td>\n",
       "      <td>West</td>\n",
       "      <td>851</td>\n",
       "      <td>0.14</td>\n",
       "      <td>51.06</td>\n",
       "      <td>Tamil Nadu</td>\n",
       "    </tr>\n",
       "  </tbody>\n",
       "</table>\n",
       "<p>9994 rows × 11 columns</p>\n",
       "</div>"
      ],
      "text/plain": [
       "     Order ID Customer Name           Category      Sub Category         City  \\\n",
       "5892   OD5893        Adavan   Fruits & Veggies  Fresh Vegetables    Nagercoil   \n",
       "1113   OD1114        Adavan        Food Grains      Atta & Flour     Dindigul   \n",
       "1119   OD1120        Adavan   Fruits & Veggies    Organic Fruits  Kanyakumari   \n",
       "5802   OD5803        Adavan             Bakery          Biscuits  Krishnagiri   \n",
       "5785   OD5786        Adavan  Eggs, Meat & Fish            Mutton  Kanyakumari   \n",
       "...       ...           ...                ...               ...          ...   \n",
       "1590   OD1591         Yusuf   Fruits & Veggies    Organic Fruits     Namakkal   \n",
       "1053   OD1054         Yusuf       Oil & Masala           Masalas         Ooty   \n",
       "1957   OD1958         Yusuf       Oil & Masala           Masalas      Madurai   \n",
       "7359   OD7360         Yusuf  Eggs, Meat & Fish           Chicken         Bodi   \n",
       "4640   OD4641         Yusuf          Beverages       Soft Drinks        Salem   \n",
       "\n",
       "      Order Date   Region  Sales  Discount  Profit       State  \n",
       "5892  2017-06-20  Central   2265      0.33  543.60  Tamil Nadu  \n",
       "1113  2018-05-27     West   2181      0.12  545.25  Tamil Nadu  \n",
       "1119  2017-06-17     West   2102      0.10  210.20  Tamil Nadu  \n",
       "5802  2018-05-28     East   1657      0.27  579.95  Tamil Nadu  \n",
       "5785  2015-09-14  Central   1518      0.24  607.20  Tamil Nadu  \n",
       "...          ...      ...    ...       ...     ...         ...  \n",
       "1590  2015-05-07     East    512      0.19   92.16  Tamil Nadu  \n",
       "1053  2018-02-11     East   1678      0.32  755.10  Tamil Nadu  \n",
       "1957  2016-10-25     West    720      0.24  244.80  Tamil Nadu  \n",
       "7359  2018-02-24     East   1104      0.35  287.04  Tamil Nadu  \n",
       "4640  2017-11-07     West    851      0.14   51.06  Tamil Nadu  \n",
       "\n",
       "[9994 rows x 11 columns]"
      ]
     },
     "execution_count": 12,
     "metadata": {},
     "output_type": "execute_result"
    }
   ],
   "source": [
    "ids = df[\"Customer Name\"]\n",
    "df[ids.isin(ids[ids.duplicated()])].sort_values(\"Customer Name\")"
   ]
  },
  {
   "cell_type": "code",
   "execution_count": 13,
   "id": "4eda50f5",
   "metadata": {},
   "outputs": [],
   "source": [
    "# counting the duplicates\n",
    "repetition_of_customer = df.pivot_table(index = ['Customer Name'], aggfunc ='size')"
   ]
  },
  {
   "cell_type": "code",
   "execution_count": 14,
   "id": "59d568e4",
   "metadata": {},
   "outputs": [
    {
     "name": "stdout",
     "output_type": "stream",
     "text": [
      "Customer Name\n",
      "Adavan      205\n",
      "Aditi       187\n",
      "Akash       196\n",
      "Alan        198\n",
      "Amrish      227\n",
      "Amy         196\n",
      "Anu         186\n",
      "Arutra      218\n",
      "Arvind      203\n",
      "Esther      189\n",
      "Ganesh      193\n",
      "Hafiz       174\n",
      "Harish      208\n",
      "Haseena     202\n",
      "Hussain     208\n",
      "Jackson     182\n",
      "James       197\n",
      "Jonas       198\n",
      "Komal       206\n",
      "Krithika    224\n",
      "Kumar       181\n",
      "Malik       201\n",
      "Mathew      205\n",
      "Muneer      204\n",
      "Peer        204\n",
      "Ram         197\n",
      "Ramesh      188\n",
      "Ravi        200\n",
      "Ridhesh     204\n",
      "Roshan      201\n",
      "Rumaiza     195\n",
      "Sabeela     188\n",
      "Shah        215\n",
      "Sharon      202\n",
      "Sheeba      195\n",
      "Shree       200\n",
      "Sudeep      207\n",
      "Sudha       189\n",
      "Sundar      187\n",
      "Suresh      212\n",
      "Surya       209\n",
      "Veena       205\n",
      "Verma       218\n",
      "Veronica    203\n",
      "Vidya       215\n",
      "Vince       188\n",
      "Vinne       203\n",
      "Willams     195\n",
      "Yadav       185\n",
      "Yusuf       201\n",
      "dtype: int64\n"
     ]
    }
   ],
   "source": [
    "print(repetition_of_customer)"
   ]
  },
  {
   "cell_type": "code",
   "execution_count": 15,
   "id": "b466d1d8",
   "metadata": {},
   "outputs": [
    {
     "data": {
      "text/plain": [
       "Amrish      227\n",
       "Krithika    224\n",
       "Verma       218\n",
       "Arutra      218\n",
       "Vidya       215\n",
       "Shah        215\n",
       "Suresh      212\n",
       "Surya       209\n",
       "Harish      208\n",
       "Hussain     208\n",
       "Sudeep      207\n",
       "Komal       206\n",
       "Veena       205\n",
       "Mathew      205\n",
       "Adavan      205\n",
       "Ridhesh     204\n",
       "Muneer      204\n",
       "Peer        204\n",
       "Veronica    203\n",
       "Arvind      203\n",
       "Vinne       203\n",
       "Sharon      202\n",
       "Haseena     202\n",
       "Malik       201\n",
       "Yusuf       201\n",
       "Roshan      201\n",
       "Shree       200\n",
       "Ravi        200\n",
       "Jonas       198\n",
       "Alan        198\n",
       "James       197\n",
       "Ram         197\n",
       "Amy         196\n",
       "Akash       196\n",
       "Willams     195\n",
       "Sheeba      195\n",
       "Rumaiza     195\n",
       "Ganesh      193\n",
       "Esther      189\n",
       "Sudha       189\n",
       "Vince       188\n",
       "Ramesh      188\n",
       "Sabeela     188\n",
       "Sundar      187\n",
       "Aditi       187\n",
       "Anu         186\n",
       "Yadav       185\n",
       "Jackson     182\n",
       "Kumar       181\n",
       "Hafiz       174\n",
       "Name: Customer Name, dtype: int64"
      ]
     },
     "execution_count": 15,
     "metadata": {},
     "output_type": "execute_result"
    }
   ],
   "source": [
    "df['Customer Name'].value_counts()"
   ]
  },
  {
   "cell_type": "code",
   "execution_count": 16,
   "id": "cb015111",
   "metadata": {},
   "outputs": [
    {
     "data": {
      "text/plain": [
       "Snacks               1514\n",
       "Eggs, Meat & Fish    1490\n",
       "Fruits & Veggies     1418\n",
       "Bakery               1413\n",
       "Beverages            1400\n",
       "Food Grains          1398\n",
       "Oil & Masala         1361\n",
       "Name: Category, dtype: int64"
      ]
     },
     "execution_count": 16,
     "metadata": {},
     "output_type": "execute_result"
    }
   ],
   "source": [
    "df['Category'].value_counts()"
   ]
  },
  {
   "cell_type": "code",
   "execution_count": null,
   "id": "8ebd9d7c",
   "metadata": {},
   "outputs": [],
   "source": []
  },
  {
   "cell_type": "code",
   "execution_count": 17,
   "id": "9b67df05",
   "metadata": {},
   "outputs": [
    {
     "data": {
      "text/plain": [
       "Health Drinks         719\n",
       "Soft Drinks           681\n",
       "Cookies               520\n",
       "Breads & Buns         502\n",
       "Chocolates            499\n",
       "Noodles               495\n",
       "Masalas               463\n",
       "Biscuits              459\n",
       "Cakes                 452\n",
       "Edible Oil & Ghee     451\n",
       "Spices                447\n",
       "Mutton                394\n",
       "Eggs                  379\n",
       "Organic Staples       372\n",
       "Fresh Fruits          369\n",
       "Fish                  369\n",
       "Fresh Vegetables      354\n",
       "Atta & Flour          353\n",
       "Organic Fruits        348\n",
       "Chicken               348\n",
       "Organic Vegetables    347\n",
       "Dals & Pulses         343\n",
       "Rice                  330\n",
       "Name: Sub Category, dtype: int64"
      ]
     },
     "execution_count": 17,
     "metadata": {},
     "output_type": "execute_result"
    }
   ],
   "source": [
    "df['Sub Category'].value_counts()"
   ]
  },
  {
   "cell_type": "code",
   "execution_count": 18,
   "id": "d7b0b2db",
   "metadata": {},
   "outputs": [
    {
     "data": {
      "text/plain": [
       "Kanyakumari       459\n",
       "Tirunelveli       446\n",
       "Bodi              442\n",
       "Krishnagiri       440\n",
       "Vellore           435\n",
       "Perambalur        434\n",
       "Tenkasi           432\n",
       "Chennai           432\n",
       "Salem             431\n",
       "Karur             430\n",
       "Pudukottai        430\n",
       "Coimbatore        428\n",
       "Ramanadhapuram    421\n",
       "Cumbum            417\n",
       "Virudhunagar      416\n",
       "Madurai           408\n",
       "Ooty              404\n",
       "Namakkal          403\n",
       "Viluppuram        397\n",
       "Dindigul          396\n",
       "Theni             387\n",
       "Dharmapuri        376\n",
       "Nagercoil         373\n",
       "Trichy            357\n",
       "Name: City, dtype: int64"
      ]
     },
     "execution_count": 18,
     "metadata": {},
     "output_type": "execute_result"
    }
   ],
   "source": [
    "df['City'].value_counts()"
   ]
  },
  {
   "cell_type": "code",
   "execution_count": 19,
   "id": "40fd3ea4",
   "metadata": {},
   "outputs": [
    {
     "data": {
      "text/plain": [
       "2266    13\n",
       "2045    13\n",
       "1259    13\n",
       "1512    12\n",
       "540     12\n",
       "        ..\n",
       "1796     1\n",
       "1728     1\n",
       "2096     1\n",
       "1067     1\n",
       "1162     1\n",
       "Name: Sales, Length: 1989, dtype: int64"
      ]
     },
     "execution_count": 19,
     "metadata": {},
     "output_type": "execute_result"
    }
   ],
   "source": [
    "df['Sales'].value_counts()"
   ]
  },
  {
   "cell_type": "code",
   "execution_count": 20,
   "id": "8230ed31",
   "metadata": {},
   "outputs": [
    {
     "data": {
      "text/plain": [
       "West       3203\n",
       "East       2848\n",
       "Central    2323\n",
       "South      1619\n",
       "North         1\n",
       "Name: Region, dtype: int64"
      ]
     },
     "execution_count": 20,
     "metadata": {},
     "output_type": "execute_result"
    }
   ],
   "source": [
    "df['Region'].value_counts()"
   ]
  },
  {
   "cell_type": "code",
   "execution_count": 21,
   "id": "12f52639",
   "metadata": {},
   "outputs": [],
   "source": [
    "df['Region'] = df['Region'].replace(['North'],'np.nan')"
   ]
  },
  {
   "cell_type": "code",
   "execution_count": 22,
   "id": "d18d4020",
   "metadata": {},
   "outputs": [
    {
     "data": {
      "text/plain": [
       "West       3203\n",
       "East       2848\n",
       "Central    2323\n",
       "South      1619\n",
       "np.nan        1\n",
       "Name: Region, dtype: int64"
      ]
     },
     "execution_count": 22,
     "metadata": {},
     "output_type": "execute_result"
    }
   ],
   "source": [
    "df['Region'].value_counts()"
   ]
  },
  {
   "cell_type": "code",
   "execution_count": 23,
   "id": "849c295f",
   "metadata": {},
   "outputs": [],
   "source": [
    "df.dropna() \n",
    "df = df.reset_index(drop = True)"
   ]
  },
  {
   "cell_type": "code",
   "execution_count": 24,
   "id": "d5e5ff70",
   "metadata": {},
   "outputs": [
    {
     "data": {
      "text/plain": [
       "West       3203\n",
       "East       2848\n",
       "Central    2323\n",
       "South      1619\n",
       "np.nan        1\n",
       "Name: Region, dtype: int64"
      ]
     },
     "execution_count": 24,
     "metadata": {},
     "output_type": "execute_result"
    }
   ],
   "source": [
    "df['Region'].value_counts()"
   ]
  },
  {
   "cell_type": "code",
   "execution_count": 25,
   "id": "42f11fd7",
   "metadata": {},
   "outputs": [
    {
     "data": {
      "text/plain": [
       "Tamil Nadu    9994\n",
       "Name: State, dtype: int64"
      ]
     },
     "execution_count": 25,
     "metadata": {},
     "output_type": "execute_result"
    }
   ],
   "source": [
    "df['State'].value_counts()"
   ]
  },
  {
   "cell_type": "code",
   "execution_count": 26,
   "id": "435c0bcd",
   "metadata": {},
   "outputs": [
    {
     "data": {
      "text/plain": [
       "Snacks               1514\n",
       "Eggs, Meat & Fish    1490\n",
       "Fruits & Veggies     1418\n",
       "Bakery               1413\n",
       "Beverages            1400\n",
       "Name: Category, dtype: int64"
      ]
     },
     "execution_count": 26,
     "metadata": {},
     "output_type": "execute_result"
    }
   ],
   "source": [
    "df['Category'].value_counts()[0:5]"
   ]
  },
  {
   "cell_type": "code",
   "execution_count": 27,
   "id": "7cdcaf8e",
   "metadata": {},
   "outputs": [
    {
     "data": {
      "text/plain": [
       "Index(['Snacks', 'Eggs, Meat & Fish', 'Fruits & Veggies', 'Bakery',\n",
       "       'Beverages'],\n",
       "      dtype='object')"
      ]
     },
     "execution_count": 27,
     "metadata": {},
     "output_type": "execute_result"
    }
   ],
   "source": [
    "df['Category'].value_counts()[0:5].keys()"
   ]
  },
  {
   "cell_type": "code",
   "execution_count": 28,
   "id": "f51b63d7",
   "metadata": {},
   "outputs": [
    {
     "data": {
      "image/png": "[encoded data removed]",
      "text/plain": [
       "<Figure size 504x360 with 1 Axes>"
      ]
     },
     "metadata": {
      "needs_background": "light"
     },
     "output_type": "display_data"
    }
   ],
   "source": [
    "df=pd.read_csv('U:\\\\Projects\\\\my_01_project\\\\Supermart Grocery Sales - Retail Analytics Dataset.csv')\n",
    "#print(df)\n",
    "plt.figure(figsize=(7,5))\n",
    "plt.bar(list(df['Category'].value_counts()[0:5].keys()),list(df['Category'].value_counts()[0:5]),color=\"g\")\n",
    "plt.show()"
   ]
  },
  {
   "cell_type": "code",
   "execution_count": 29,
   "id": "9dc2da5d",
   "metadata": {},
   "outputs": [
    {
     "data": {
      "text/html": [
       "<div>\n",
       "<style scoped>\n",
       "    .dataframe tbody tr th:only-of-type {\n",
       "        vertical-align: middle;\n",
       "    }\n",
       "\n",
       "    .dataframe tbody tr th {\n",
       "        vertical-align: top;\n",
       "    }\n",
       "\n",
       "    .dataframe thead th {\n",
       "        text-align: right;\n",
       "    }\n",
       "</style>\n",
       "<table border=\"1\" class=\"dataframe\">\n",
       "  <thead>\n",
       "    <tr style=\"text-align: right;\">\n",
       "      <th></th>\n",
       "      <th>Oreder_ID</th>\n",
       "      <th>Customer_Name</th>\n",
       "      <th>Category</th>\n",
       "      <th>Sub_Category</th>\n",
       "      <th>City</th>\n",
       "      <th>Order_Date</th>\n",
       "      <th>Region</th>\n",
       "      <th>Sales</th>\n",
       "      <th>Discount</th>\n",
       "      <th>Profit</th>\n",
       "      <th>State</th>\n",
       "    </tr>\n",
       "  </thead>\n",
       "  <tbody>\n",
       "    <tr>\n",
       "      <th>0</th>\n",
       "      <td>OD1</td>\n",
       "      <td>Harish</td>\n",
       "      <td>Oil &amp; Masala</td>\n",
       "      <td>Masalas</td>\n",
       "      <td>Vellore</td>\n",
       "      <td>2017-11-08</td>\n",
       "      <td>North</td>\n",
       "      <td>1254</td>\n",
       "      <td>0.12</td>\n",
       "      <td>401.28</td>\n",
       "      <td>Tamil Nadu</td>\n",
       "    </tr>\n",
       "    <tr>\n",
       "      <th>1</th>\n",
       "      <td>OD2</td>\n",
       "      <td>Sudha</td>\n",
       "      <td>Beverages</td>\n",
       "      <td>Health Drinks</td>\n",
       "      <td>Krishnagiri</td>\n",
       "      <td>2017-11-08</td>\n",
       "      <td>South</td>\n",
       "      <td>749</td>\n",
       "      <td>0.18</td>\n",
       "      <td>149.80</td>\n",
       "      <td>Tamil Nadu</td>\n",
       "    </tr>\n",
       "    <tr>\n",
       "      <th>2</th>\n",
       "      <td>OD3</td>\n",
       "      <td>Hussain</td>\n",
       "      <td>Food Grains</td>\n",
       "      <td>Atta &amp; Flour</td>\n",
       "      <td>Perambalur</td>\n",
       "      <td>2017-06-12</td>\n",
       "      <td>West</td>\n",
       "      <td>2360</td>\n",
       "      <td>0.21</td>\n",
       "      <td>165.20</td>\n",
       "      <td>Tamil Nadu</td>\n",
       "    </tr>\n",
       "    <tr>\n",
       "      <th>3</th>\n",
       "      <td>OD4</td>\n",
       "      <td>Jackson</td>\n",
       "      <td>Fruits &amp; Veggies</td>\n",
       "      <td>Fresh Vegetables</td>\n",
       "      <td>Dharmapuri</td>\n",
       "      <td>2016-10-11</td>\n",
       "      <td>South</td>\n",
       "      <td>896</td>\n",
       "      <td>0.25</td>\n",
       "      <td>89.60</td>\n",
       "      <td>Tamil Nadu</td>\n",
       "    </tr>\n",
       "    <tr>\n",
       "      <th>4</th>\n",
       "      <td>OD5</td>\n",
       "      <td>Ridhesh</td>\n",
       "      <td>Food Grains</td>\n",
       "      <td>Organic Staples</td>\n",
       "      <td>Ooty</td>\n",
       "      <td>2016-10-11</td>\n",
       "      <td>South</td>\n",
       "      <td>2355</td>\n",
       "      <td>0.26</td>\n",
       "      <td>918.45</td>\n",
       "      <td>Tamil Nadu</td>\n",
       "    </tr>\n",
       "    <tr>\n",
       "      <th>...</th>\n",
       "      <td>...</td>\n",
       "      <td>...</td>\n",
       "      <td>...</td>\n",
       "      <td>...</td>\n",
       "      <td>...</td>\n",
       "      <td>...</td>\n",
       "      <td>...</td>\n",
       "      <td>...</td>\n",
       "      <td>...</td>\n",
       "      <td>...</td>\n",
       "      <td>...</td>\n",
       "    </tr>\n",
       "    <tr>\n",
       "      <th>9989</th>\n",
       "      <td>OD9990</td>\n",
       "      <td>Sudeep</td>\n",
       "      <td>Eggs, Meat &amp; Fish</td>\n",
       "      <td>Eggs</td>\n",
       "      <td>Madurai</td>\n",
       "      <td>2015-12-24</td>\n",
       "      <td>West</td>\n",
       "      <td>945</td>\n",
       "      <td>0.16</td>\n",
       "      <td>359.10</td>\n",
       "      <td>Tamil Nadu</td>\n",
       "    </tr>\n",
       "    <tr>\n",
       "      <th>9990</th>\n",
       "      <td>OD9991</td>\n",
       "      <td>Alan</td>\n",
       "      <td>Bakery</td>\n",
       "      <td>Biscuits</td>\n",
       "      <td>Kanyakumari</td>\n",
       "      <td>2015-07-12</td>\n",
       "      <td>West</td>\n",
       "      <td>1195</td>\n",
       "      <td>0.26</td>\n",
       "      <td>71.70</td>\n",
       "      <td>Tamil Nadu</td>\n",
       "    </tr>\n",
       "    <tr>\n",
       "      <th>9991</th>\n",
       "      <td>OD9992</td>\n",
       "      <td>Ravi</td>\n",
       "      <td>Food Grains</td>\n",
       "      <td>Rice</td>\n",
       "      <td>Bodi</td>\n",
       "      <td>2017-06-06</td>\n",
       "      <td>West</td>\n",
       "      <td>1567</td>\n",
       "      <td>0.16</td>\n",
       "      <td>501.44</td>\n",
       "      <td>Tamil Nadu</td>\n",
       "    </tr>\n",
       "    <tr>\n",
       "      <th>9992</th>\n",
       "      <td>OD9993</td>\n",
       "      <td>Peer</td>\n",
       "      <td>Oil &amp; Masala</td>\n",
       "      <td>Spices</td>\n",
       "      <td>Pudukottai</td>\n",
       "      <td>2018-10-16</td>\n",
       "      <td>West</td>\n",
       "      <td>1659</td>\n",
       "      <td>0.15</td>\n",
       "      <td>597.24</td>\n",
       "      <td>Tamil Nadu</td>\n",
       "    </tr>\n",
       "    <tr>\n",
       "      <th>9993</th>\n",
       "      <td>OD9994</td>\n",
       "      <td>Ganesh</td>\n",
       "      <td>Food Grains</td>\n",
       "      <td>Atta &amp; Flour</td>\n",
       "      <td>Tirunelveli</td>\n",
       "      <td>2018-04-17</td>\n",
       "      <td>West</td>\n",
       "      <td>1034</td>\n",
       "      <td>0.28</td>\n",
       "      <td>165.44</td>\n",
       "      <td>Tamil Nadu</td>\n",
       "    </tr>\n",
       "  </tbody>\n",
       "</table>\n",
       "<p>9994 rows × 11 columns</p>\n",
       "</div>"
      ],
      "text/plain": [
       "     Oreder_ID Customer_Name           Category      Sub_Category  \\\n",
       "0          OD1        Harish       Oil & Masala           Masalas   \n",
       "1          OD2         Sudha          Beverages     Health Drinks   \n",
       "2          OD3       Hussain        Food Grains      Atta & Flour   \n",
       "3          OD4       Jackson   Fruits & Veggies  Fresh Vegetables   \n",
       "4          OD5       Ridhesh        Food Grains   Organic Staples   \n",
       "...        ...           ...                ...               ...   \n",
       "9989    OD9990        Sudeep  Eggs, Meat & Fish              Eggs   \n",
       "9990    OD9991          Alan             Bakery          Biscuits   \n",
       "9991    OD9992          Ravi        Food Grains              Rice   \n",
       "9992    OD9993          Peer       Oil & Masala            Spices   \n",
       "9993    OD9994        Ganesh        Food Grains      Atta & Flour   \n",
       "\n",
       "             City  Order_Date Region  Sales  Discount  Profit       State  \n",
       "0         Vellore  2017-11-08  North   1254      0.12  401.28  Tamil Nadu  \n",
       "1     Krishnagiri  2017-11-08  South    749      0.18  149.80  Tamil Nadu  \n",
       "2      Perambalur  2017-06-12   West   2360      0.21  165.20  Tamil Nadu  \n",
       "3      Dharmapuri  2016-10-11  South    896      0.25   89.60  Tamil Nadu  \n",
       "4            Ooty  2016-10-11  South   2355      0.26  918.45  Tamil Nadu  \n",
       "...           ...         ...    ...    ...       ...     ...         ...  \n",
       "9989      Madurai  2015-12-24   West    945      0.16  359.10  Tamil Nadu  \n",
       "9990  Kanyakumari  2015-07-12   West   1195      0.26   71.70  Tamil Nadu  \n",
       "9991         Bodi  2017-06-06   West   1567      0.16  501.44  Tamil Nadu  \n",
       "9992   Pudukottai  2018-10-16   West   1659      0.15  597.24  Tamil Nadu  \n",
       "9993  Tirunelveli  2018-04-17   West   1034      0.28  165.44  Tamil Nadu  \n",
       "\n",
       "[9994 rows x 11 columns]"
      ]
     },
     "execution_count": 29,
     "metadata": {},
     "output_type": "execute_result"
    }
   ],
   "source": [
    "df.rename(columns={'Order ID':'Oreder_ID','Customer Name':'Customer_Name','Sub Category':'Sub_Category','Order Date':'Order_Date'} , inplace = True)\n",
    "df\n",
    "\n"
   ]
  },
  {
   "cell_type": "code",
   "execution_count": 30,
   "id": "2dcf702a",
   "metadata": {},
   "outputs": [
    {
     "name": "stdout",
     "output_type": "stream",
     "text": [
      "This table consists of 9994 rows and 11 columns\n"
     ]
    }
   ],
   "source": [
    "Num_rowsandcolumn =df.shape\n",
    "print ('This table consists of {} rows and {} columns'.format(Num_rowsandcolumn[0], Num_rowsandcolumn[1]))"
   ]
  },
  {
   "cell_type": "code",
   "execution_count": 31,
   "id": "53f02ec4",
   "metadata": {
    "scrolled": true
   },
   "outputs": [
    {
     "name": "stdout",
     "output_type": "stream",
     "text": [
      "<class 'pandas.core.frame.DataFrame'>\n",
      "RangeIndex: 9994 entries, 0 to 9993\n",
      "Data columns (total 11 columns):\n",
      " #   Column         Non-Null Count  Dtype  \n",
      "---  ------         --------------  -----  \n",
      " 0   Oreder_ID      9994 non-null   object \n",
      " 1   Customer_Name  9994 non-null   object \n",
      " 2   Category       9994 non-null   object \n",
      " 3   Sub_Category   9994 non-null   object \n",
      " 4   City           9994 non-null   object \n",
      " 5   Order_Date     9994 non-null   object \n",
      " 6   Region         9994 non-null   object \n",
      " 7   Sales          9994 non-null   int64  \n",
      " 8   Discount       9994 non-null   float64\n",
      " 9   Profit         9994 non-null   float64\n",
      " 10  State          9994 non-null   object \n",
      "dtypes: float64(2), int64(1), object(8)\n",
      "memory usage: 859.0+ KB\n"
     ]
    }
   ],
   "source": [
    "df.info()"
   ]
  },
  {
   "cell_type": "code",
   "execution_count": null,
   "id": "99c93db4",
   "metadata": {},
   "outputs": [],
   "source": []
  },
  {
   "cell_type": "code",
   "execution_count": 32,
   "id": "161cc865",
   "metadata": {},
   "outputs": [
    {
     "data": {
      "text/plain": [
       "0      2017-11-08\n",
       "1      2017-11-08\n",
       "2      2017-06-12\n",
       "3      2016-10-11\n",
       "4      2016-10-11\n",
       "          ...    \n",
       "9989   2015-12-24\n",
       "9990   2015-07-12\n",
       "9991   2017-06-06\n",
       "9992   2018-10-16\n",
       "9993   2018-04-17\n",
       "Name: Order_Date, Length: 9994, dtype: datetime64[ns]"
      ]
     },
     "execution_count": 32,
     "metadata": {},
     "output_type": "execute_result"
    }
   ],
   "source": [
    "from datetime import datetime\n",
    "df.Order_Date =pd.to_datetime(df.Order_Date)\n",
    "df.Order_Date"
   ]
  },
  {
   "cell_type": "code",
   "execution_count": 33,
   "id": "0e272a9b",
   "metadata": {},
   "outputs": [
    {
     "data": {
      "text/html": [
       "<div>\n",
       "<style scoped>\n",
       "    .dataframe tbody tr th:only-of-type {\n",
       "        vertical-align: middle;\n",
       "    }\n",
       "\n",
       "    .dataframe tbody tr th {\n",
       "        vertical-align: top;\n",
       "    }\n",
       "\n",
       "    .dataframe thead th {\n",
       "        text-align: right;\n",
       "    }\n",
       "</style>\n",
       "<table border=\"1\" class=\"dataframe\">\n",
       "  <thead>\n",
       "    <tr style=\"text-align: right;\">\n",
       "      <th></th>\n",
       "      <th>Oreder_ID</th>\n",
       "      <th>Customer_Name</th>\n",
       "      <th>Category</th>\n",
       "      <th>Sub_Category</th>\n",
       "      <th>City</th>\n",
       "      <th>Order_Date</th>\n",
       "      <th>Region</th>\n",
       "      <th>Sales</th>\n",
       "      <th>Discount</th>\n",
       "      <th>Profit</th>\n",
       "      <th>State</th>\n",
       "      <th>Year</th>\n",
       "      <th>Month</th>\n",
       "      <th>Day</th>\n",
       "      <th>Weekday</th>\n",
       "    </tr>\n",
       "  </thead>\n",
       "  <tbody>\n",
       "    <tr>\n",
       "      <th>0</th>\n",
       "      <td>OD1</td>\n",
       "      <td>Harish</td>\n",
       "      <td>Oil &amp; Masala</td>\n",
       "      <td>Masalas</td>\n",
       "      <td>Vellore</td>\n",
       "      <td>2017-11-08</td>\n",
       "      <td>North</td>\n",
       "      <td>1254</td>\n",
       "      <td>0.12</td>\n",
       "      <td>401.28</td>\n",
       "      <td>Tamil Nadu</td>\n",
       "      <td>2017</td>\n",
       "      <td>11</td>\n",
       "      <td>8</td>\n",
       "      <td>2</td>\n",
       "    </tr>\n",
       "    <tr>\n",
       "      <th>1</th>\n",
       "      <td>OD2</td>\n",
       "      <td>Sudha</td>\n",
       "      <td>Beverages</td>\n",
       "      <td>Health Drinks</td>\n",
       "      <td>Krishnagiri</td>\n",
       "      <td>2017-11-08</td>\n",
       "      <td>South</td>\n",
       "      <td>749</td>\n",
       "      <td>0.18</td>\n",
       "      <td>149.80</td>\n",
       "      <td>Tamil Nadu</td>\n",
       "      <td>2017</td>\n",
       "      <td>11</td>\n",
       "      <td>8</td>\n",
       "      <td>2</td>\n",
       "    </tr>\n",
       "    <tr>\n",
       "      <th>2</th>\n",
       "      <td>OD3</td>\n",
       "      <td>Hussain</td>\n",
       "      <td>Food Grains</td>\n",
       "      <td>Atta &amp; Flour</td>\n",
       "      <td>Perambalur</td>\n",
       "      <td>2017-06-12</td>\n",
       "      <td>West</td>\n",
       "      <td>2360</td>\n",
       "      <td>0.21</td>\n",
       "      <td>165.20</td>\n",
       "      <td>Tamil Nadu</td>\n",
       "      <td>2017</td>\n",
       "      <td>6</td>\n",
       "      <td>12</td>\n",
       "      <td>0</td>\n",
       "    </tr>\n",
       "    <tr>\n",
       "      <th>3</th>\n",
       "      <td>OD4</td>\n",
       "      <td>Jackson</td>\n",
       "      <td>Fruits &amp; Veggies</td>\n",
       "      <td>Fresh Vegetables</td>\n",
       "      <td>Dharmapuri</td>\n",
       "      <td>2016-10-11</td>\n",
       "      <td>South</td>\n",
       "      <td>896</td>\n",
       "      <td>0.25</td>\n",
       "      <td>89.60</td>\n",
       "      <td>Tamil Nadu</td>\n",
       "      <td>2016</td>\n",
       "      <td>10</td>\n",
       "      <td>11</td>\n",
       "      <td>1</td>\n",
       "    </tr>\n",
       "    <tr>\n",
       "      <th>4</th>\n",
       "      <td>OD5</td>\n",
       "      <td>Ridhesh</td>\n",
       "      <td>Food Grains</td>\n",
       "      <td>Organic Staples</td>\n",
       "      <td>Ooty</td>\n",
       "      <td>2016-10-11</td>\n",
       "      <td>South</td>\n",
       "      <td>2355</td>\n",
       "      <td>0.26</td>\n",
       "      <td>918.45</td>\n",
       "      <td>Tamil Nadu</td>\n",
       "      <td>2016</td>\n",
       "      <td>10</td>\n",
       "      <td>11</td>\n",
       "      <td>1</td>\n",
       "    </tr>\n",
       "    <tr>\n",
       "      <th>...</th>\n",
       "      <td>...</td>\n",
       "      <td>...</td>\n",
       "      <td>...</td>\n",
       "      <td>...</td>\n",
       "      <td>...</td>\n",
       "      <td>...</td>\n",
       "      <td>...</td>\n",
       "      <td>...</td>\n",
       "      <td>...</td>\n",
       "      <td>...</td>\n",
       "      <td>...</td>\n",
       "      <td>...</td>\n",
       "      <td>...</td>\n",
       "      <td>...</td>\n",
       "      <td>...</td>\n",
       "    </tr>\n",
       "    <tr>\n",
       "      <th>9989</th>\n",
       "      <td>OD9990</td>\n",
       "      <td>Sudeep</td>\n",
       "      <td>Eggs, Meat &amp; Fish</td>\n",
       "      <td>Eggs</td>\n",
       "      <td>Madurai</td>\n",
       "      <td>2015-12-24</td>\n",
       "      <td>West</td>\n",
       "      <td>945</td>\n",
       "      <td>0.16</td>\n",
       "      <td>359.10</td>\n",
       "      <td>Tamil Nadu</td>\n",
       "      <td>2015</td>\n",
       "      <td>12</td>\n",
       "      <td>24</td>\n",
       "      <td>3</td>\n",
       "    </tr>\n",
       "    <tr>\n",
       "      <th>9990</th>\n",
       "      <td>OD9991</td>\n",
       "      <td>Alan</td>\n",
       "      <td>Bakery</td>\n",
       "      <td>Biscuits</td>\n",
       "      <td>Kanyakumari</td>\n",
       "      <td>2015-07-12</td>\n",
       "      <td>West</td>\n",
       "      <td>1195</td>\n",
       "      <td>0.26</td>\n",
       "      <td>71.70</td>\n",
       "      <td>Tamil Nadu</td>\n",
       "      <td>2015</td>\n",
       "      <td>7</td>\n",
       "      <td>12</td>\n",
       "      <td>6</td>\n",
       "    </tr>\n",
       "    <tr>\n",
       "      <th>9991</th>\n",
       "      <td>OD9992</td>\n",
       "      <td>Ravi</td>\n",
       "      <td>Food Grains</td>\n",
       "      <td>Rice</td>\n",
       "      <td>Bodi</td>\n",
       "      <td>2017-06-06</td>\n",
       "      <td>West</td>\n",
       "      <td>1567</td>\n",
       "      <td>0.16</td>\n",
       "      <td>501.44</td>\n",
       "      <td>Tamil Nadu</td>\n",
       "      <td>2017</td>\n",
       "      <td>6</td>\n",
       "      <td>6</td>\n",
       "      <td>1</td>\n",
       "    </tr>\n",
       "    <tr>\n",
       "      <th>9992</th>\n",
       "      <td>OD9993</td>\n",
       "      <td>Peer</td>\n",
       "      <td>Oil &amp; Masala</td>\n",
       "      <td>Spices</td>\n",
       "      <td>Pudukottai</td>\n",
       "      <td>2018-10-16</td>\n",
       "      <td>West</td>\n",
       "      <td>1659</td>\n",
       "      <td>0.15</td>\n",
       "      <td>597.24</td>\n",
       "      <td>Tamil Nadu</td>\n",
       "      <td>2018</td>\n",
       "      <td>10</td>\n",
       "      <td>16</td>\n",
       "      <td>1</td>\n",
       "    </tr>\n",
       "    <tr>\n",
       "      <th>9993</th>\n",
       "      <td>OD9994</td>\n",
       "      <td>Ganesh</td>\n",
       "      <td>Food Grains</td>\n",
       "      <td>Atta &amp; Flour</td>\n",
       "      <td>Tirunelveli</td>\n",
       "      <td>2018-04-17</td>\n",
       "      <td>West</td>\n",
       "      <td>1034</td>\n",
       "      <td>0.28</td>\n",
       "      <td>165.44</td>\n",
       "      <td>Tamil Nadu</td>\n",
       "      <td>2018</td>\n",
       "      <td>4</td>\n",
       "      <td>17</td>\n",
       "      <td>1</td>\n",
       "    </tr>\n",
       "  </tbody>\n",
       "</table>\n",
       "<p>9994 rows × 15 columns</p>\n",
       "</div>"
      ],
      "text/plain": [
       "     Oreder_ID Customer_Name           Category      Sub_Category  \\\n",
       "0          OD1        Harish       Oil & Masala           Masalas   \n",
       "1          OD2         Sudha          Beverages     Health Drinks   \n",
       "2          OD3       Hussain        Food Grains      Atta & Flour   \n",
       "3          OD4       Jackson   Fruits & Veggies  Fresh Vegetables   \n",
       "4          OD5       Ridhesh        Food Grains   Organic Staples   \n",
       "...        ...           ...                ...               ...   \n",
       "9989    OD9990        Sudeep  Eggs, Meat & Fish              Eggs   \n",
       "9990    OD9991          Alan             Bakery          Biscuits   \n",
       "9991    OD9992          Ravi        Food Grains              Rice   \n",
       "9992    OD9993          Peer       Oil & Masala            Spices   \n",
       "9993    OD9994        Ganesh        Food Grains      Atta & Flour   \n",
       "\n",
       "             City Order_Date Region  Sales  Discount  Profit       State  \\\n",
       "0         Vellore 2017-11-08  North   1254      0.12  401.28  Tamil Nadu   \n",
       "1     Krishnagiri 2017-11-08  South    749      0.18  149.80  Tamil Nadu   \n",
       "2      Perambalur 2017-06-12   West   2360      0.21  165.20  Tamil Nadu   \n",
       "3      Dharmapuri 2016-10-11  South    896      0.25   89.60  Tamil Nadu   \n",
       "4            Ooty 2016-10-11  South   2355      0.26  918.45  Tamil Nadu   \n",
       "...           ...        ...    ...    ...       ...     ...         ...   \n",
       "9989      Madurai 2015-12-24   West    945      0.16  359.10  Tamil Nadu   \n",
       "9990  Kanyakumari 2015-07-12   West   1195      0.26   71.70  Tamil Nadu   \n",
       "9991         Bodi 2017-06-06   West   1567      0.16  501.44  Tamil Nadu   \n",
       "9992   Pudukottai 2018-10-16   West   1659      0.15  597.24  Tamil Nadu   \n",
       "9993  Tirunelveli 2018-04-17   West   1034      0.28  165.44  Tamil Nadu   \n",
       "\n",
       "      Year  Month  Day  Weekday  \n",
       "0     2017     11    8        2  \n",
       "1     2017     11    8        2  \n",
       "2     2017      6   12        0  \n",
       "3     2016     10   11        1  \n",
       "4     2016     10   11        1  \n",
       "...    ...    ...  ...      ...  \n",
       "9989  2015     12   24        3  \n",
       "9990  2015      7   12        6  \n",
       "9991  2017      6    6        1  \n",
       "9992  2018     10   16        1  \n",
       "9993  2018      4   17        1  \n",
       "\n",
       "[9994 rows x 15 columns]"
      ]
     },
     "execution_count": 33,
     "metadata": {},
     "output_type": "execute_result"
    }
   ],
   "source": [
    "# I will use the datetimeindex to extract the different parts of the date into separate columns because in this Analysis, i will be exploring the relationship between the sales pattern by weekdays and also by months.\n",
    "# I will also like to see how sales trends have changed across the year.\n",
    "df['Year'] = pd.DatetimeIndex(df.Order_Date).year\n",
    "df['Month'] = pd.DatetimeIndex(df.Order_Date).month\n",
    "df['Day'] = pd.DatetimeIndex(df.Order_Date).day\n",
    "df['Weekday'] = pd.DatetimeIndex(df.Order_Date).weekday\n",
    "df"
   ]
  },
  {
   "cell_type": "code",
   "execution_count": 34,
   "id": "0e407304",
   "metadata": {},
   "outputs": [
    {
     "data": {
      "text/plain": [
       "array([2017, 2016, 2015, 2018], dtype=int64)"
      ]
     },
     "execution_count": 34,
     "metadata": {},
     "output_type": "execute_result"
    }
   ],
   "source": [
    "df['Year'].unique()\n"
   ]
  },
  {
   "cell_type": "code",
   "execution_count": 35,
   "id": "bf3088ad",
   "metadata": {},
   "outputs": [
    {
     "data": {
      "image/png": "[encoded data removed]",
      "text/plain": [
       "<Figure size 432x288 with 1 Axes>"
      ]
     },
     "metadata": {
      "needs_background": "light"
     },
     "output_type": "display_data"
    }
   ],
   "source": [
    "SalesbyYear =df.groupby('Year') [['Sales']].count().sort_values(by = 'Sales', ascending = True)\n",
    "#plt.hist(orientation='vertical')\n",
    "SalesbyYear.plot(kind ='barh', legend = False, color = 'Green',label=\"sales\")\n",
    "plt.title('Sales by Year', fontweight = 'bold', fontsize = 18 ) #orientation='vertical'\n",
    "plt.xlabel('Count of Sales', fontsize = 14) #Count of Sales\n",
    "plt.ylabel('Year', fontsize = 14);\n",
    "plt.legend()\n",
    "plt.show()"
   ]
  },
  {
   "cell_type": "code",
   "execution_count": 36,
   "id": "c61c99d7",
   "metadata": {},
   "outputs": [
    {
     "data": {
      "text/plain": [
       "array([11,  6, 10,  4, 12,  5,  8,  7,  9,  1,  3,  2], dtype=int64)"
      ]
     },
     "execution_count": 36,
     "metadata": {},
     "output_type": "execute_result"
    }
   ],
   "source": [
    "df['Month'].unique()\n"
   ]
  },
  {
   "cell_type": "code",
   "execution_count": 37,
   "id": "9f3b198e",
   "metadata": {},
   "outputs": [
    {
     "data": {
      "image/png": "[encoded data removed]",
      "text/plain": [
       "<Figure size 432x288 with 1 Axes>"
      ]
     },
     "metadata": {
      "needs_background": "light"
     },
     "output_type": "display_data"
    }
   ],
   "source": [
    "SalesbyMonth =df.groupby('Month') [['Sales']].count()\n",
    "SalesbyMonth.plot(kind ='bar', legend = False, color = 'Red')\n",
    "plt.xticks((0, 1, 2, 3, 4, 5, 6, 7, 8, 9, 10, 11), ('Jan', 'Feb', 'Mar', 'Apr', 'May', 'Jun', 'Jul', 'Aug', 'Sept', 'Oct', 'Nov', 'Dec'))\n",
    "plt.title('Sales by Month', fontweight = 'bold', fontsize = 18)\n",
    "plt.xlabel('Month', fontsize = 14)\n",
    "plt.ylabel('Count of Sales', fontsize = 14);"
   ]
  },
  {
   "cell_type": "code",
   "execution_count": null,
   "id": "b7ba5212",
   "metadata": {},
   "outputs": [],
   "source": []
  },
  {
   "cell_type": "code",
   "execution_count": 38,
   "id": "c74b7da5",
   "metadata": {},
   "outputs": [
    {
     "data": {
      "text/plain": [
       "array([ 8, 12, 11,  9, 15,  5, 22, 13, 27, 16, 25, 17, 19, 10, 20, 18, 24,\n",
       "       30,  4, 14, 26,  3, 28, 31,  6, 29,  1, 23,  2,  7, 21],\n",
       "      dtype=int64)"
      ]
     },
     "execution_count": 38,
     "metadata": {},
     "output_type": "execute_result"
    }
   ],
   "source": [
    "df['Day'].unique()"
   ]
  },
  {
   "cell_type": "code",
   "execution_count": 39,
   "id": "ebc4fb7c",
   "metadata": {},
   "outputs": [
    {
     "data": {
      "image/png": "[encoded data removed]",
      "text/plain": [
       "<Figure size 432x288 with 1 Axes>"
      ]
     },
     "metadata": {
      "needs_background": "light"
     },
     "output_type": "display_data"
    }
   ],
   "source": [
    "# Checking for daily sales pattern\n",
    "SalesbyWeekday =df.groupby('Weekday') [['Sales']].count()\n",
    "SalesbyWeekday.plot(kind ='bar', legend = False, color = 'purple')\n",
    "plt.xticks((0, 1, 2, 3, 4, 5, 6,), ('Mon', 'Tue', 'Wed', 'Thur', 'Fri', 'Sat', 'Sun'))\n",
    "plt.title('Sales by Weekdays', fontweight = 'bold', fontsize = 18)\n",
    "plt.xlabel('Weekdays', fontsize = 14)\n",
    "plt.ylabel('Count of Sales', fontsize = 14);"
   ]
  }
 ],
 "metadata": {
  "kernelspec": {
   "display_name": "Python 3 (ipykernel)",
   "language": "python",
   "name": "python3"
  },
  "language_info": {
   "codemirror_mode": {
    "name": "ipython",
    "version": 3
   },
   "file_extension": ".py",
   "mimetype": "text/x-python",
   "name": "python",
   "nbconvert_exporter": "python",
   "pygments_lexer": "ipython3",
   "version": "3.10.5"
  }
 },
 "nbformat": 4,
 "nbformat_minor": 5
}
